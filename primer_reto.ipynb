{
 "cells": [
  {
   "cell_type": "code",
   "execution_count": 1,
   "metadata": {},
   "outputs": [],
   "source": [
    "import requests\n",
    "import json\n",
    "import pandas as pd\n",
    "from datetime import datetime\n",
    "import numpy as np\n"
   ]
  },
  {
   "cell_type": "code",
   "execution_count": 2,
   "metadata": {},
   "outputs": [],
   "source": [
    "url = \"https://api.stackexchange.com/2.2/search?order=desc&sort=activity&intitle=perl&site=stackoverflow\"\n",
    "response = requests.get(url)\n",
    "resp = json.loads(response.text)"
   ]
  },
  {
   "cell_type": "code",
   "execution_count": 3,
   "metadata": {},
   "outputs": [
    {
     "data": {
      "text/html": [
       "<div>\n",
       "<style scoped>\n",
       "    .dataframe tbody tr th:only-of-type {\n",
       "        vertical-align: middle;\n",
       "    }\n",
       "\n",
       "    .dataframe tbody tr th {\n",
       "        vertical-align: top;\n",
       "    }\n",
       "\n",
       "    .dataframe thead th {\n",
       "        text-align: right;\n",
       "    }\n",
       "</style>\n",
       "<table border=\"1\" class=\"dataframe\">\n",
       "  <thead>\n",
       "    <tr style=\"text-align: right;\">\n",
       "      <th></th>\n",
       "      <th>tags</th>\n",
       "      <th>owner</th>\n",
       "      <th>is_answered</th>\n",
       "      <th>view_count</th>\n",
       "      <th>answer_count</th>\n",
       "      <th>score</th>\n",
       "      <th>last_activity_date</th>\n",
       "      <th>creation_date</th>\n",
       "      <th>question_id</th>\n",
       "      <th>content_license</th>\n",
       "      <th>link</th>\n",
       "      <th>title</th>\n",
       "      <th>last_edit_date</th>\n",
       "      <th>accepted_answer_id</th>\n",
       "      <th>closed_date</th>\n",
       "      <th>closed_reason</th>\n",
       "      <th>protected_date</th>\n",
       "    </tr>\n",
       "  </thead>\n",
       "  <tbody>\n",
       "    <tr>\n",
       "      <th>0</th>\n",
       "      <td>[perl, imagemagick, perlmagick]</td>\n",
       "      <td>{'reputation': 665, 'user_id': 2744953, 'user_...</td>\n",
       "      <td>False</td>\n",
       "      <td>25</td>\n",
       "      <td>1</td>\n",
       "      <td>0</td>\n",
       "      <td>2022-05-04 23:15:10</td>\n",
       "      <td>2022-05-04 16:48:49</td>\n",
       "      <td>72119828</td>\n",
       "      <td>CC BY-SA 4.0</td>\n",
       "      <td>https://stackoverflow.com/questions/72119828/p...</td>\n",
       "      <td>Perl ImageMagick: how to disable printing of c...</td>\n",
       "      <td>NaN</td>\n",
       "      <td>NaN</td>\n",
       "      <td>NaT</td>\n",
       "      <td>NaN</td>\n",
       "      <td>NaT</td>\n",
       "    </tr>\n",
       "    <tr>\n",
       "      <th>1</th>\n",
       "      <td>[perl, testing, read-eval-print-loop, test-more]</td>\n",
       "      <td>{'reputation': 21, 'user_id': 11199751, 'user_...</td>\n",
       "      <td>False</td>\n",
       "      <td>24</td>\n",
       "      <td>0</td>\n",
       "      <td>0</td>\n",
       "      <td>2022-05-04 21:22:20</td>\n",
       "      <td>2022-05-04 20:44:29</td>\n",
       "      <td>72121076</td>\n",
       "      <td>CC BY-SA 4.0</td>\n",
       "      <td>https://stackoverflow.com/questions/72121076/e...</td>\n",
       "      <td>execute a programman REPL with perl</td>\n",
       "      <td>1.651717e+09</td>\n",
       "      <td>NaN</td>\n",
       "      <td>NaT</td>\n",
       "      <td>NaN</td>\n",
       "      <td>NaT</td>\n",
       "    </tr>\n",
       "  </tbody>\n",
       "</table>\n",
       "</div>"
      ],
      "text/plain": [
       "                                               tags  \\\n",
       "0                   [perl, imagemagick, perlmagick]   \n",
       "1  [perl, testing, read-eval-print-loop, test-more]   \n",
       "\n",
       "                                               owner  is_answered  view_count  \\\n",
       "0  {'reputation': 665, 'user_id': 2744953, 'user_...        False          25   \n",
       "1  {'reputation': 21, 'user_id': 11199751, 'user_...        False          24   \n",
       "\n",
       "   answer_count  score  last_activity_date       creation_date  question_id  \\\n",
       "0             1      0 2022-05-04 23:15:10 2022-05-04 16:48:49     72119828   \n",
       "1             0      0 2022-05-04 21:22:20 2022-05-04 20:44:29     72121076   \n",
       "\n",
       "  content_license                                               link  \\\n",
       "0    CC BY-SA 4.0  https://stackoverflow.com/questions/72119828/p...   \n",
       "1    CC BY-SA 4.0  https://stackoverflow.com/questions/72121076/e...   \n",
       "\n",
       "                                               title  last_edit_date  \\\n",
       "0  Perl ImageMagick: how to disable printing of c...             NaN   \n",
       "1                execute a programman REPL with perl    1.651717e+09   \n",
       "\n",
       "   accepted_answer_id closed_date closed_reason protected_date  \n",
       "0                 NaN         NaT           NaN            NaT  \n",
       "1                 NaN         NaT           NaN            NaT  "
      ]
     },
     "execution_count": 3,
     "metadata": {},
     "output_type": "execute_result"
    }
   ],
   "source": [
    "df = pd.DataFrame(resp['items'])\n",
    "\n",
    "df['creation_date'] = df['creation_date'].apply(lambda x: datetime.fromtimestamp(x))\n",
    "df['last_activity_date'] = df['last_activity_date'].apply(lambda x: datetime.fromtimestamp(x))\n",
    "df['closed_date'] = df['closed_date'].apply(lambda x: datetime.fromtimestamp(x) if pd.notna(x) else None)\n",
    "df['protected_date'] = df['protected_date'].apply(lambda x: datetime.fromtimestamp(x) if pd.notna(x) else None)\n",
    "\n",
    "df.head(2)"
   ]
  },
  {
   "cell_type": "markdown",
   "metadata": {},
   "source": [
    "#### Obtener el número de respuestas contestadas y no contestadas"
   ]
  },
  {
   "cell_type": "code",
   "execution_count": null,
   "metadata": {},
   "outputs": [],
   "source": [
    "answered_count = df[df['is_answered']==True]['is_answered'].shape[0]\n",
    "unanswered_count = df[df['is_answered']==False]['is_answered'].shape[0]\n",
    "\n",
    "print(f'Total de preguntas contestadas: {answered_count}')\n",
    "print(f'Total de preguntas no contestadas: {unanswered_count}')"
   ]
  },
  {
   "cell_type": "code",
   "execution_count": 8,
   "metadata": {},
   "outputs": [
    {
     "name": "stdout",
     "output_type": "stream",
     "text": [
      "Total de preguntas contestadas: 25\n",
      "Total de preguntas no contestadas: 5\n"
     ]
    }
   ],
   "source": [
    "answeres = [x['is_answered'] for x in resp['items']]\n",
    "answered_count = sum(answeres)\n",
    "not_answered_count = len(answeres) - answered_count\n",
    "\n",
    "print(f'Total de preguntas contestadas: {answered_count}')\n",
    "print(f'Total de preguntas no contestadas: {not_answered_count}')"
   ]
  },
  {
   "cell_type": "markdown",
   "metadata": {},
   "source": [
    "#### Obtener la respuesta con menor número de vistas"
   ]
  },
  {
   "cell_type": "code",
   "execution_count": 6,
   "metadata": {},
   "outputs": [
    {
     "name": "stdout",
     "output_type": "stream",
     "text": [
      "[{'tags': ['perl', 'testing', 'read-eval-print-loop', 'test-more'], 'owner': {'reputation': 21, 'user_id': 11199751, 'user_type': 'registered', 'profile_image': 'https://lh6.googleusercontent.com/-v6oOEjABbUY/AAAAAAAAAAI/AAAAAAAAAAA/ACHi3re9pT0Wzi9MhE2ocnsB65OvmYCjEQ/mo/photo.jpg?sz=256', 'display_name': 'Guilherme Gi&#225;como Simoes', 'link': 'https://stackoverflow.com/users/11199751/guilherme-gi%c3%a1como-simoes'}, 'is_answered': False, 'view_count': 24, 'answer_count': 0, 'score': 0, 'last_activity_date': 1651699340000, 'creation_date': 1651697069000, 'question_id': 72121076, 'content_license': 'CC BY-SA 4.0', 'link': 'https://stackoverflow.com/questions/72121076/execute-a-programman-repl-with-perl', 'title': 'execute a programman REPL with perl', 'last_edit_date': 1651717340.0, 'accepted_answer_id': None, 'closed_date': None, 'closed_reason': None, 'protected_date': None}]\n"
     ]
    }
   ],
   "source": [
    "xx = json.loads(df[df['view_count'] == df['view_count'].min()].to_json(orient='records'))\n",
    "print(xx)"
   ]
  },
  {
   "cell_type": "markdown",
   "metadata": {},
   "source": [
    "#### Obtener la respuesta más vieja y más actual"
   ]
  },
  {
   "cell_type": "code",
   "execution_count": 9,
   "metadata": {},
   "outputs": [],
   "source": [
    "df['creation_date'] = df['creation_date'].apply(lambda x: datetime.fromtimestamp(x))\n",
    "df['last_activity_date'] = df['last_activity_date'].apply(lambda x: datetime.fromtimestamp(x))"
   ]
  },
  {
   "cell_type": "code",
   "execution_count": null,
   "metadata": {},
   "outputs": [],
   "source": [
    "old = df[df['creation_date'] == df['creation_date'].min()].to_json()\n",
    "new = df[df['creation_date'] == df['creation_date'].max()].to_json()\n",
    "\n",
    "print(f'respuesta mas antigua: {old} \\n')\n",
    "print(f'respuesta mas reciente: {new}')"
   ]
  },
  {
   "cell_type": "markdown",
   "metadata": {},
   "source": [
    "#### Obtener la respuesta del owner que tenga una mayor reputación"
   ]
  },
  {
   "cell_type": "code",
   "execution_count": 10,
   "metadata": {},
   "outputs": [],
   "source": [
    "def aux(row):\n",
    "    try:\n",
    "        return row['reputation']\n",
    "    except KeyError:\n",
    "        return 0"
   ]
  },
  {
   "cell_type": "code",
   "execution_count": 12,
   "metadata": {},
   "outputs": [
    {
     "name": "stdout",
     "output_type": "stream",
     "text": [
      "maximo reputacion de una respuesta: {\"tags\":{\"25\":[\"perl\",\"subroutine\"]},\"owner\":{\"25\":{\"reputation\":89206,\"user_id\":31610,\"user_type\":\"registered\",\"accept_rate\":87,\"profile_image\":\"https:\\/\\/www.gravatar.com\\/avatar\\/20571f32acd27d2cf5f1b1f42ea1a75b?s=256&d=identicon&r=PG\",\"display_name\":\"Geo\",\"link\":\"https:\\/\\/stackoverflow.com\\/users\\/31610\\/geo\"}},\"is_answered\":{\"25\":true},\"view_count\":{\"25\":1509},\"answer_count\":{\"25\":5},\"score\":{\"25\":14},\"last_activity_date\":{\"25\":1651425926},\"creation_date\":{\"25\":1251840375},\"last_edit_date\":{\"25\":1651425926.0},\"question_id\":{\"25\":1364734},\"content_license\":{\"25\":\"CC BY-SA 4.0\"},\"link\":{\"25\":\"https:\\/\\/stackoverflow.com\\/questions\\/1364734\\/can-perl-method-calls-be-intercepted\"},\"title\":{\"25\":\"Can Perl method calls be intercepted?\"},\"accepted_answer_id\":{\"25\":1364905.0},\"closed_date\":{\"25\":null},\"closed_reason\":{\"25\":null},\"protected_date\":{\"25\":null},\"owner_reputation\":{\"25\":89206}}\n"
     ]
    }
   ],
   "source": [
    "df_1 = df.copy()\n",
    "df_1['owner_reputation'] = df_1['owner'].apply(aux)\n",
    "max_owner_reputation_answer = df_1[df_1['owner_reputation'] == df_1['owner_reputation'].max()].to_json()\n",
    "print(f'maximo reputacion de una respuesta: {max_owner_reputation_answer}')\n"
   ]
  },
  {
   "cell_type": "code",
   "execution_count": 6,
   "metadata": {},
   "outputs": [
    {
     "data": {
      "text/plain": [
       "0     {'reputation': 21, 'user_id': 11199751, 'user_...\n",
       "1     {'reputation': 29, 'user_id': 10563266, 'user_...\n",
       "2     {'reputation': 665, 'user_id': 2744953, 'user_...\n",
       "3     {'reputation': 14188, 'user_id': 269126, 'user...\n",
       "4     {'user_type': 'does_not_exist', 'display_name'...\n",
       "5     {'reputation': 11, 'user_id': 17860614, 'user_...\n",
       "6     {'reputation': 33, 'user_id': 7602733, 'user_t...\n",
       "7     {'reputation': 409, 'user_id': 5128398, 'user_...\n",
       "8     {'reputation': 602, 'user_id': 1996150, 'user_...\n",
       "9     {'reputation': 320, 'user_id': 7344596, 'user_...\n",
       "10    {'reputation': 3, 'user_id': 19026977, 'user_t...\n",
       "11    {'reputation': 16434, 'user_id': 450148, 'user...\n",
       "12    {'reputation': 3613, 'user_id': 402649, 'user_...\n",
       "13    {'reputation': 1352, 'user_id': 4208719, 'user...\n",
       "14    {'reputation': 1000, 'user_id': 2993440, 'user...\n",
       "15    {'reputation': 1, 'user_id': 19022401, 'user_t...\n",
       "16    {'reputation': 529, 'user_id': 6368549, 'user_...\n",
       "17    {'reputation': 11, 'user_id': 18835228, 'user_...\n",
       "18    {'reputation': 83, 'user_id': 14656284, 'user_...\n",
       "19    {'reputation': 22628, 'user_id': 336455, 'user...\n",
       "20    {'reputation': 13, 'user_id': 14117637, 'user_...\n",
       "21    {'reputation': 307, 'user_id': 3687023, 'user_...\n",
       "22    {'reputation': 12130, 'user_id': 253944, 'user...\n",
       "23    {'reputation': 5284, 'user_id': 334761, 'user_...\n",
       "24    {'reputation': 1516, 'user_id': 1405646, 'user...\n",
       "25    {'reputation': 89206, 'user_id': 31610, 'user_...\n",
       "26    {'reputation': 311, 'user_id': 5300462, 'user_...\n",
       "27    {'reputation': 15, 'user_id': 11813992, 'user_...\n",
       "28    {'reputation': 3666, 'user_id': 447503, 'user_...\n",
       "29    {'reputation': 66672, 'user_id': 3594, 'user_t...\n",
       "Name: owner, dtype: object"
      ]
     },
     "execution_count": 6,
     "metadata": {},
     "output_type": "execute_result"
    }
   ],
   "source": [
    "df[\"owner\"]"
   ]
  },
  {
   "cell_type": "markdown",
   "metadata": {},
   "source": [
    "#### Imprimir en consola del punto 2 al 5"
   ]
  },
  {
   "cell_type": "code",
   "execution_count": 105,
   "metadata": {},
   "outputs": [
    {
     "data": {
      "text/plain": [
       "'2022-04-26 16:21:09'"
      ]
     },
     "execution_count": 105,
     "metadata": {},
     "output_type": "execute_result"
    }
   ],
   "source": [
    "date = datetime.fromtimestamp(1651008069)\n",
    "date.strftime('%Y-%m-%d %H:%M:%S')"
   ]
  }
 ],
 "metadata": {
  "interpreter": {
   "hash": "3de83b5841fcaa28b697a84a7bb23d7498bd40b66bdd326d0f4e48493a1f8932"
  },
  "kernelspec": {
   "display_name": "Python 3.10.4 ('env': venv)",
   "language": "python",
   "name": "python3"
  },
  "language_info": {
   "codemirror_mode": {
    "name": "ipython",
    "version": 3
   },
   "file_extension": ".py",
   "mimetype": "text/x-python",
   "name": "python",
   "nbconvert_exporter": "python",
   "pygments_lexer": "ipython3",
   "version": "3.10.4"
  },
  "orig_nbformat": 4
 },
 "nbformat": 4,
 "nbformat_minor": 2
}
